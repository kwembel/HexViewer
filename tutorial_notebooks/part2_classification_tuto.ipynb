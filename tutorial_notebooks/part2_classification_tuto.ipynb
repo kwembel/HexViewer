{
  "cells": [
    {
      "cell_type": "markdown",
      "id": "cba4c9c2",
      "metadata": {
        "id": "cba4c9c2"
      },
      "source": [
        "# 📊 Part II: Conformal Classification\n",
        "\n",
        "The objective is to use conformal prediction to assess the uncertainty associated with a predictive classifier. We will assume that this classifier is already deployed in production from PUNCC's perspective. Our task is to perform post-hoc calibration to enable the generation of reliable prediction intervals.\n",
        "\n",
        "<div align=center>\n",
        "<img src=\"https://github.com/deel-ai/uq-masterclass/blob/main/tutorial_notebooks/assets/classification_demo.svg?raw=1\" width=\"800\"> </img>\n",
        "</div>\n",
        "\n",
        "**Links**\n",
        "- [<img src=\"https://github.githubassets.com/images/icons/emoji/octocat.png\" width=20> Github](https://github.com/deel-ai/puncc)\n",
        "- [📘 Documentation](https://deel-ai.github.io/puncc/index.html)"
      ]
    },
    {
      "cell_type": "markdown",
      "id": "85e8c1e0",
      "metadata": {
        "id": "85e8c1e0"
      },
      "source": [
        "### ⚙️ Setup  <a class=\"anchor\" id=\"cr-setup\"></a>\n",
        "\n",
        "🐾 Ensure we have puncc installed. You can install it if needed using pip:"
      ]
    },
    {
      "cell_type": "code",
      "execution_count": 1,
      "id": "cbc706a4",
      "metadata": {
        "id": "cbc706a4",
        "outputId": "82a7389e-dd32-4cae-cb56-95399bd1e5eb",
        "colab": {
          "base_uri": "https://localhost:8080/"
        }
      },
      "outputs": [
        {
          "output_type": "stream",
          "name": "stdout",
          "text": [
            "Collecting puncc\n",
            "  Downloading puncc-0.8.0-py3-none-any.whl.metadata (13 kB)\n",
            "Requirement already satisfied: joblib in /usr/local/lib/python3.10/dist-packages (from puncc) (1.4.2)\n",
            "Requirement already satisfied: matplotlib in /usr/local/lib/python3.10/dist-packages (from puncc) (3.8.0)\n",
            "Requirement already satisfied: numpy in /usr/local/lib/python3.10/dist-packages (from puncc) (1.26.4)\n",
            "Requirement already satisfied: pandas in /usr/local/lib/python3.10/dist-packages (from puncc) (2.2.2)\n",
            "Requirement already satisfied: scikit-learn in /usr/local/lib/python3.10/dist-packages (from puncc) (1.5.2)\n",
            "Requirement already satisfied: tqdm in /usr/local/lib/python3.10/dist-packages (from puncc) (4.66.6)\n",
            "Requirement already satisfied: contourpy>=1.0.1 in /usr/local/lib/python3.10/dist-packages (from matplotlib->puncc) (1.3.1)\n",
            "Requirement already satisfied: cycler>=0.10 in /usr/local/lib/python3.10/dist-packages (from matplotlib->puncc) (0.12.1)\n",
            "Requirement already satisfied: fonttools>=4.22.0 in /usr/local/lib/python3.10/dist-packages (from matplotlib->puncc) (4.54.1)\n",
            "Requirement already satisfied: kiwisolver>=1.0.1 in /usr/local/lib/python3.10/dist-packages (from matplotlib->puncc) (1.4.7)\n",
            "Requirement already satisfied: packaging>=20.0 in /usr/local/lib/python3.10/dist-packages (from matplotlib->puncc) (24.2)\n",
            "Requirement already satisfied: pillow>=6.2.0 in /usr/local/lib/python3.10/dist-packages (from matplotlib->puncc) (11.0.0)\n",
            "Requirement already satisfied: pyparsing>=2.3.1 in /usr/local/lib/python3.10/dist-packages (from matplotlib->puncc) (3.2.0)\n",
            "Requirement already satisfied: python-dateutil>=2.7 in /usr/local/lib/python3.10/dist-packages (from matplotlib->puncc) (2.8.2)\n",
            "Requirement already satisfied: pytz>=2020.1 in /usr/local/lib/python3.10/dist-packages (from pandas->puncc) (2024.2)\n",
            "Requirement already satisfied: tzdata>=2022.7 in /usr/local/lib/python3.10/dist-packages (from pandas->puncc) (2024.2)\n",
            "Requirement already satisfied: scipy>=1.6.0 in /usr/local/lib/python3.10/dist-packages (from scikit-learn->puncc) (1.13.1)\n",
            "Requirement already satisfied: threadpoolctl>=3.1.0 in /usr/local/lib/python3.10/dist-packages (from scikit-learn->puncc) (3.5.0)\n",
            "Requirement already satisfied: six>=1.5 in /usr/local/lib/python3.10/dist-packages (from python-dateutil>=2.7->matplotlib->puncc) (1.16.0)\n",
            "Downloading puncc-0.8.0-py3-none-any.whl (70 kB)\n",
            "\u001b[2K   \u001b[90m━━━━━━━━━━━━━━━━━━━━━━━━━━━━━━━━━━━━━━━━\u001b[0m \u001b[32m70.8/70.8 kB\u001b[0m \u001b[31m1.6 MB/s\u001b[0m eta \u001b[36m0:00:00\u001b[0m\n",
            "\u001b[?25hInstalling collected packages: puncc\n",
            "Successfully installed puncc-0.8.0\n"
          ]
        }
      ],
      "source": [
        "!pip install puncc"
      ]
    },
    {
      "cell_type": "markdown",
      "id": "d757e5ca",
      "metadata": {
        "id": "d757e5ca"
      },
      "source": [
        "We import some modules:"
      ]
    },
    {
      "cell_type": "code",
      "execution_count": 2,
      "id": "b29028bd",
      "metadata": {
        "id": "b29028bd"
      },
      "outputs": [],
      "source": [
        "import numpy as np\n",
        "import warnings\n",
        "import matplotlib.pyplot as plt\n",
        "import seaborn as sns\n",
        "\n",
        "import tensorflow as tf\n",
        "\n",
        "# Set seaborn theme\n",
        "sns.set_theme()\n",
        "\n",
        "# Ignore warnings\n",
        "warnings.filterwarnings(\"ignore\")\n",
        "\n",
        "# Set random seed for reproducibility\n",
        "tf.random.set_seed(0)\n",
        "tf.keras.utils.set_random_seed(0)"
      ]
    },
    {
      "cell_type": "markdown",
      "id": "30047277",
      "metadata": {
        "id": "30047277"
      },
      "source": [
        "### 💾 MNIST Dataset <a class=\"anchor\" id=\"cc-data\"></a>\n",
        "\n",
        "MNIST dataset contains a large number of $28\\times28$ digit images to which are associated digit labels. As the data generating process is considered i.i.d (check [this post](https://newsletter.altdeep.ai/p/the-story-of-mnist-and-the-perils)), conformal prediction is applicable 👏.\n",
        "\n",
        "We have two available data subsets:\n",
        "\n",
        "* Calibration subset ${\\cal D_{calib}}$ on which nonconformity scores are computed.\n",
        "* New data subset ${\\cal D_{new}}$ on which the prediction set are estimated."
      ]
    },
    {
      "cell_type": "code",
      "execution_count": 3,
      "id": "2d5c87be",
      "metadata": {
        "colab": {
          "base_uri": "https://localhost:8080/",
          "height": 457
        },
        "id": "2d5c87be",
        "outputId": "8c37d5f5-d253-414b-f740-96e81139b28b"
      },
      "outputs": [
        {
          "output_type": "stream",
          "name": "stdout",
          "text": [
            "Downloading data from https://storage.googleapis.com/tensorflow/tf-keras-datasets/mnist.npz\n",
            "\u001b[1m11490434/11490434\u001b[0m \u001b[32m━━━━━━━━━━━━━━━━━━━━\u001b[0m\u001b[37m\u001b[0m \u001b[1m1s\u001b[0m 0us/step\n"
          ]
        },
        {
          "output_type": "display_data",
          "data": {
            "text/plain": [
              "<Figure size 500x500 with 4 Axes>"
            ],
            "image/png": "[encoded data removed]"
          },
          "metadata": {}
        }
      ],
      "source": [
        "# Load MNIST Database\n",
        "(X_train_mnist, y_train_mnist), (X_new_mnist, y_new_mnist) = (\n",
        "    tf.keras.datasets.mnist.load_data()\n",
        ")\n",
        "\n",
        "# Preprocessing: reshaping and standardization\n",
        "X_train_mnist = X_train_mnist.reshape((len(X_train_mnist), 28, 28))\n",
        "X_train_mnist = X_train_mnist.astype(\"float32\") / 255\n",
        "X_new_mnist = X_new_mnist.reshape((len(X_new_mnist), 28, 28))\n",
        "X_new_mnist = X_new_mnist.astype(\"float32\") / 255\n",
        "\n",
        "# Split fit and calib datasets\n",
        "X_fit_mnist = X_train_mnist[:50000]\n",
        "y_fit_mnist = y_train_mnist[:50000]\n",
        "\n",
        "# Calibration data\n",
        "X_calib_mnist = X_train_mnist[50000:]\n",
        "y_calib_mnist = y_train_mnist[50000:]\n",
        "\n",
        "# One hot encoding of classes\n",
        "y_fit_cat = tf.keras.utils.to_categorical(y_fit_mnist)\n",
        "\n",
        "fig, ax = plt.subplots(nrows=2, ncols=2, figsize=(5, 5))\n",
        "ax = ax.flatten()\n",
        "\n",
        "for i in range(4):\n",
        "    ax[i].imshow(1 - X_fit_mnist[i], cmap=\"gray\")\n",
        "    ax[i].set_xticks([])\n",
        "    ax[i].set_yticks([])"
      ]
    },
    {
      "cell_type": "markdown",
      "id": "027c4d98",
      "metadata": {
        "id": "027c4d98"
      },
      "source": [
        "### 🔮 Prediction model <a class=\"anchor\" id=\"cc-pm\"></a>\n",
        "\n",
        "We will consider a convolutional neural network (convnet) defined below. The model will be trained prior to any conformalization and will be assumed to be in production from this point on."
      ]
    },
    {
      "cell_type": "code",
      "execution_count": 4,
      "id": "739e5a49",
      "metadata": {
        "id": "739e5a49",
        "outputId": "66498f20-50ce-4212-ab30-cb95ae5bb7af",
        "colab": {
          "base_uri": "https://localhost:8080/"
        }
      },
      "outputs": [
        {
          "output_type": "stream",
          "name": "stdout",
          "text": [
            "\u001b[1m79/79\u001b[0m \u001b[32m━━━━━━━━━━━━━━━━━━━━\u001b[0m\u001b[37m\u001b[0m \u001b[1m17s\u001b[0m 200ms/step - accuracy: 0.6493 - loss: 1.3085 - val_accuracy: 0.8490 - val_loss: 0.4751\n"
          ]
        }
      ],
      "source": [
        "# Classification model: convnet composed of two convolution/pooling layers\n",
        "# and a dense output layer\n",
        "convnet_model = tf.keras.models.Sequential(\n",
        "    [\n",
        "        tf.keras.Input(shape=(28, 28, 1)),\n",
        "        tf.keras.layers.Conv2D(16, kernel_size=(3, 3), activation=\"relu\"),\n",
        "        tf.keras.layers.MaxPooling2D(pool_size=(2, 2)),\n",
        "        tf.keras.layers.Conv2D(32, kernel_size=(3, 3), activation=\"relu\"),\n",
        "        tf.keras.layers.MaxPooling2D(pool_size=(2, 2)),\n",
        "        tf.keras.layers.Flatten(),\n",
        "        tf.keras.layers.Dense(10, activation=\"softmax\"),\n",
        "    ]\n",
        ")\n",
        "\n",
        "convnet_model.compile(\n",
        "    optimizer=\"rmsprop\", loss=\"categorical_crossentropy\", metrics=[\"accuracy\"]\n",
        ")\n",
        "history = convnet_model.fit(\n",
        "    X_fit_mnist,\n",
        "    y_fit_cat,\n",
        "    epochs=1,\n",
        "    batch_size=512,\n",
        "    validation_split=0.2,\n",
        "    verbose=1,\n",
        ")"
      ]
    },
    {
      "cell_type": "markdown",
      "id": "f3127fb0",
      "metadata": {
        "id": "f3127fb0"
      },
      "source": [
        "### ⚖️ Naive Approach <a class=\"anchor\" id=\"cc-calib\"></a>\n",
        "\n",
        "Our convnet has softmax function applied to logit outputs, to normalize them and convert them into probabilities. One may attempt to use logit scores to meet requirements on error rate $\\le \\alpha = 0.05$.\n",
        "\n",
        "<div align=center>\n",
        "<img src=\"https://github.com/deel-ai/uq-masterclass/blob/main/tutorial_notebooks/assets/naive_classification.svg?raw=1\" width=\"600\"> </img>\n",
        "</div>\n",
        "\n",
        "These logits can be used to determine the class with the highest score, but they do not necessarily represent well-calibrated probabilities.\n",
        "\n",
        "\n",
        "<div align=center>\n",
        "<img src=\"https://github.com/deel-ai/uq-masterclass/blob/main/tutorial_notebooks/assets/fooling_dnns.png?raw=1\" width=\"800\"> </img>\n",
        "</div>\n",
        "\n",
        "We can't trust logit scores to reliably estimate uncertainty."
      ]
    },
    {
      "cell_type": "markdown",
      "id": "f0fdfb0d",
      "metadata": {
        "id": "f0fdfb0d"
      },
      "source": [
        "### ⚙️ Conformal Prediction <a class=\"anchor\" id=\"cc-cp\"></a>\n",
        "\n",
        "The goal is provide a reliable uncertainty evaluation through conformal prediction associated with our pretrained convnet classifier.\n",
        "\n",
        "The APS procedure is the chosen method.\n",
        "\n",
        "<div align=center>\n",
        "<img src=\"https://github.com/deel-ai/uq-masterclass/blob/main/tutorial_notebooks/assets/workflow_classification.svg?raw=1\" width=\"800\"> </img>\n",
        "</div>"
      ]
    },
    {
      "cell_type": "markdown",
      "id": "fbe6c5e0",
      "metadata": {
        "id": "fbe6c5e0"
      },
      "source": [
        "#### 1. Instantiation"
      ]
    },
    {
      "cell_type": "code",
      "execution_count": 5,
      "id": "b73525e9",
      "metadata": {
        "id": "b73525e9"
      },
      "outputs": [],
      "source": [
        "from deel.puncc.api.prediction import BasePredictor\n",
        "from deel.puncc.classification import APS\n",
        "\n",
        "# Instanciate the APS wrapper around the convnet predictor.\n",
        "# The `train` argument is set to False as the model is already trained\n",
        "convnet_cp = APS(convnet_model, train=False)  # TODO"
      ]
    },
    {
      "cell_type": "markdown",
      "id": "e7cf5fba",
      "metadata": {
        "id": "e7cf5fba"
      },
      "source": [
        "#### 2. Calibration"
      ]
    },
    {
      "cell_type": "code",
      "execution_count": 6,
      "id": "815727db",
      "metadata": {
        "id": "815727db",
        "outputId": "f29ddc4e-5d65-4d77-e1b1-2d97688a71cb",
        "colab": {
          "base_uri": "https://localhost:8080/"
        }
      },
      "outputs": [
        {
          "output_type": "stream",
          "name": "stdout",
          "text": [
            "\u001b[1m313/313\u001b[0m \u001b[32m━━━━━━━━━━━━━━━━━━━━\u001b[0m\u001b[37m\u001b[0m \u001b[1m2s\u001b[0m 5ms/step\n"
          ]
        }
      ],
      "source": [
        "# Compute the nonconformity scores on the calibration dataset\n",
        "convnet_cp.fit(X_calib=X_calib_mnist, y_calib=y_calib_mnist)  # TODO"
      ]
    },
    {
      "cell_type": "markdown",
      "id": "8291b16a",
      "metadata": {
        "id": "8291b16a"
      },
      "source": [
        "#### 3. Conformal Inference"
      ]
    },
    {
      "cell_type": "code",
      "execution_count": 8,
      "id": "8b29f0b1",
      "metadata": {
        "id": "8b29f0b1",
        "outputId": "c4294bcb-9206-4849-b57c-9cf55809c2cb",
        "colab": {
          "base_uri": "https://localhost:8080/"
        }
      },
      "outputs": [
        {
          "output_type": "stream",
          "name": "stdout",
          "text": [
            "\u001b[1m313/313\u001b[0m \u001b[32m━━━━━━━━━━━━━━━━━━━━\u001b[0m\u001b[37m\u001b[0m \u001b[1m2s\u001b[0m 5ms/step\n"
          ]
        }
      ],
      "source": [
        "# Use chooses the coverage target 1-alpha = 95%\n",
        "alpha = 0.05\n",
        "\n",
        "# The `predict` returns the output of the convnet model `y_pred` and\n",
        "# the calibrated prediction set `set_pred`.\n",
        "y_pred, set_pred = convnet_cp.predict(X_test=X_new_mnist, alpha=alpha)  # TODO"
      ]
    },
    {
      "cell_type": "markdown",
      "id": "ae842f7d",
      "metadata": {
        "id": "ae842f7d"
      },
      "source": [
        "Let's visualize an example of point prediction and set prediction."
      ]
    },
    {
      "cell_type": "code",
      "execution_count": 9,
      "id": "3db6e674",
      "metadata": {
        "colab": {
          "base_uri": "https://localhost:8080/",
          "height": 331
        },
        "id": "3db6e674",
        "outputId": "15967764-76f8-44f7-e24d-f786e053883c"
      },
      "outputs": [
        {
          "output_type": "display_data",
          "data": {
            "text/plain": [
              "<Figure size 300x300 with 1 Axes>"
            ],
            "image/png": "[encoded data removed]"
          },
          "metadata": {}
        }
      ],
      "source": [
        "sample = 18\n",
        "\n",
        "# sort y_pred[sample] in reversed order\n",
        "ranked_pred = y_pred[sample].argsort()[::-1]\n",
        "\n",
        "# Plot results\n",
        "fig = plt.figure(figsize=(3, 3))\n",
        "plt.imshow(X_new_mnist[sample].reshape((28, 28)), cmap=\"gray\")\n",
        "_ = plt.title(\n",
        "    f\"Point prediction: {np.argmax(y_pred[sample])} \\n \"\n",
        "    + f\"Prediction set: {set_pred[sample]} \\n True label: {y_new_mnist[sample]}\"\n",
        ")\n",
        "\n",
        "_ = plt.xticks([])\n",
        "_ = plt.yticks([])"
      ]
    },
    {
      "cell_type": "markdown",
      "id": "6781fcee",
      "metadata": {
        "id": "6781fcee"
      },
      "source": [
        "Puncc provides several metrics in `deel.puncc.metrics` to evaluate the conformalization procedure. Below, we compute the average empirical coverage and the average empirical size of the prediction sets on the new examples:"
      ]
    },
    {
      "cell_type": "code",
      "execution_count": 10,
      "id": "89dbd478",
      "metadata": {
        "colab": {
          "base_uri": "https://localhost:8080/"
        },
        "id": "89dbd478",
        "outputId": "43b8d73f-36f0-44a1-d477-badd4301e24d"
      },
      "outputs": [
        {
          "output_type": "stream",
          "name": "stdout",
          "text": [
            "Empirical coverage : 0.95\n",
            "Average set size : 1.86\n"
          ]
        }
      ],
      "source": [
        "from deel.puncc import metrics\n",
        "\n",
        "mean_coverage = metrics.classification_mean_coverage(y_new_mnist, set_pred)\n",
        "mean_size = metrics.classification_mean_size(set_pred)\n",
        "\n",
        "print(f\"Empirical coverage : {mean_coverage:.2f}\")\n",
        "print(f\"Average set size : {mean_size:.2f}\")"
      ]
    },
    {
      "cell_type": "markdown",
      "id": "88129c4f",
      "metadata": {
        "id": "88129c4f"
      },
      "source": [
        "We can check the calibrated threshold selected by the algorithm (quantile of nonconformity scores) and conclude."
      ]
    },
    {
      "cell_type": "code",
      "execution_count": 11,
      "id": "5641b7f4",
      "metadata": {
        "id": "5641b7f4"
      },
      "outputs": [],
      "source": [
        "# Get nonconformity scores\n",
        "nonconf_scores = convnet_cp.conformal_predictor.get_nonconformity_scores()[0]\n",
        "\n",
        "# Size of the calibration set\n",
        "n = len(nonconf_scores)\n",
        "\n",
        "# Compute the calibrated treshold\n",
        "calibrated_treshold = np.quantile(\n",
        "    nonconf_scores, (1 - alpha) * (n + 1) / n, method=\"inverted_cdf\"\n",
        ")"
      ]
    },
    {
      "cell_type": "code",
      "execution_count": 12,
      "id": "3da9ef9e",
      "metadata": {
        "id": "3da9ef9e",
        "outputId": "f7a38c98-b53b-4f79-ee36-5991f2f8493a",
        "colab": {
          "base_uri": "https://localhost:8080/"
        }
      },
      "outputs": [
        {
          "output_type": "stream",
          "name": "stdout",
          "text": [
            "Uncalibrated treshold : 0.95\n",
            "Calibrated treshold : 0.93\n"
          ]
        }
      ],
      "source": [
        "print(f\"Uncalibrated treshold : {1-alpha:.2f}\")\n",
        "print(f\"Calibrated treshold : {calibrated_treshold:.2f}\")"
      ]
    }
  ],
  "metadata": {
    "colab": {
      "provenance": []
    },
    "kernelspec": {
      "display_name": "punc-user-env",
      "language": "python",
      "name": "python3"
    },
    "language_info": {
      "codemirror_mode": {
        "name": "ipython",
        "version": 3
      },
      "file_extension": ".py",
      "mimetype": "text/x-python",
      "name": "python",
      "nbconvert_exporter": "python",
      "pygments_lexer": "ipython3",
      "version": "3.9.7"
    },
    "latex_envs": {
      "LaTeX_envs_menu_present": true,
      "autoclose": false,
      "autocomplete": true,
      "bibliofile": "biblio.bib",
      "cite_by": "apalike",
      "current_citInitial": 1,
      "eqLabelWithNumbers": true,
      "eqNumInitial": 1,
      "hotkeys": {
        "equation": "Ctrl-E",
        "itemize": "Ctrl-I"
      },
      "labels_anchors": false,
      "latex_user_defs": false,
      "report_style_numbering": false,
      "user_envs_cfg": false
    }
  },
  "nbformat": 4,
  "nbformat_minor": 5
}